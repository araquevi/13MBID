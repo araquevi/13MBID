{
 "cells": [
  {
   "cell_type": "markdown",
   "metadata": {},
   "source": [
    "## Máster en Big Data y Data Science\n",
    "\n",
    "### Metodologías de gestión y diseño de proyectos de big data\n",
    "\n",
    "#### AP2 - Descubrimiento de grupos en los datos\n",
    "\n",
    "---\n",
    "\n",
    "En esta libreta se generan los modelos de clusterización sobre el dataset final del escenario para su posterior evaluación y análisis. Se utilizará como herramienta de soporte a mlflow para el registro completo de la experimentación. \n",
    "\n",
    "---"
   ]
  },
  {
   "cell_type": "code",
   "execution_count": 63,
   "metadata": {},
   "outputs": [],
   "source": [
    "# Importación de librerías\n",
    "\n",
    "import pandas as pd\n",
    "# Se importa mlflow para registro de la experimentación \n",
    "import mlflow\n",
    "# Se importan los métodos a utilizar para clusterizar\n",
    "from sklearn.cluster import DBSCAN, KMeans, AgglomerativeClustering, MeanShift, Birch\n",
    "# Se importan las métricas a utilizar para evaluar el proceso\n",
    "from sklearn.metrics import silhouette_score, davies_bouldin_score, calinski_harabasz_score\n"
   ]
  },
  {
   "cell_type": "markdown",
   "metadata": {},
   "source": [
    "----\n",
    "\n",
    "##### Lectura del dataset"
   ]
  },
  {
   "cell_type": "code",
   "execution_count": 64,
   "metadata": {},
   "outputs": [
    {
     "data": {
      "text/html": [
       "<div>\n",
       "<style scoped>\n",
       "    .dataframe tbody tr th:only-of-type {\n",
       "        vertical-align: middle;\n",
       "    }\n",
       "\n",
       "    .dataframe tbody tr th {\n",
       "        vertical-align: top;\n",
       "    }\n",
       "\n",
       "    .dataframe thead th {\n",
       "        text-align: right;\n",
       "    }\n",
       "</style>\n",
       "<table border=\"1\" class=\"dataframe\">\n",
       "  <thead>\n",
       "    <tr style=\"text-align: right;\">\n",
       "      <th></th>\n",
       "      <th>edad</th>\n",
       "      <th>importe_solicitado</th>\n",
       "      <th>duracion_credito</th>\n",
       "      <th>ingresos</th>\n",
       "      <th>pct_ingreso</th>\n",
       "      <th>tasa_interes</th>\n",
       "      <th>estado_credito</th>\n",
       "      <th>antiguedad_cliente</th>\n",
       "      <th>gastos_ult_12m</th>\n",
       "      <th>situacion_vivienda_ALQUILER</th>\n",
       "      <th>...</th>\n",
       "      <th>estado_civil_CASADO</th>\n",
       "      <th>estado_civil_DESCONOCIDO</th>\n",
       "      <th>estado_civil_DIVORCIADO</th>\n",
       "      <th>estado_civil_SOLTERO</th>\n",
       "      <th>estado_cliente_ACTIVO</th>\n",
       "      <th>estado_cliente_PASIVO</th>\n",
       "      <th>nivel_tarjeta_Blue</th>\n",
       "      <th>nivel_tarjeta_Gold</th>\n",
       "      <th>nivel_tarjeta_Platinum</th>\n",
       "      <th>nivel_tarjeta_Silver</th>\n",
       "    </tr>\n",
       "  </thead>\n",
       "  <tbody>\n",
       "    <tr>\n",
       "      <th>0</th>\n",
       "      <td>22</td>\n",
       "      <td>35000</td>\n",
       "      <td>3</td>\n",
       "      <td>59000</td>\n",
       "      <td>0.59</td>\n",
       "      <td>16.02</td>\n",
       "      <td>1</td>\n",
       "      <td>36.0</td>\n",
       "      <td>1088.0</td>\n",
       "      <td>True</td>\n",
       "      <td>...</td>\n",
       "      <td>True</td>\n",
       "      <td>False</td>\n",
       "      <td>False</td>\n",
       "      <td>False</td>\n",
       "      <td>True</td>\n",
       "      <td>False</td>\n",
       "      <td>True</td>\n",
       "      <td>False</td>\n",
       "      <td>False</td>\n",
       "      <td>False</td>\n",
       "    </tr>\n",
       "    <tr>\n",
       "      <th>1</th>\n",
       "      <td>21</td>\n",
       "      <td>1000</td>\n",
       "      <td>2</td>\n",
       "      <td>9600</td>\n",
       "      <td>0.10</td>\n",
       "      <td>11.14</td>\n",
       "      <td>0</td>\n",
       "      <td>39.0</td>\n",
       "      <td>1144.0</td>\n",
       "      <td>False</td>\n",
       "      <td>...</td>\n",
       "      <td>True</td>\n",
       "      <td>False</td>\n",
       "      <td>False</td>\n",
       "      <td>False</td>\n",
       "      <td>True</td>\n",
       "      <td>False</td>\n",
       "      <td>True</td>\n",
       "      <td>False</td>\n",
       "      <td>False</td>\n",
       "      <td>False</td>\n",
       "    </tr>\n",
       "    <tr>\n",
       "      <th>2</th>\n",
       "      <td>23</td>\n",
       "      <td>35000</td>\n",
       "      <td>2</td>\n",
       "      <td>65500</td>\n",
       "      <td>0.53</td>\n",
       "      <td>15.23</td>\n",
       "      <td>1</td>\n",
       "      <td>36.0</td>\n",
       "      <td>1887.0</td>\n",
       "      <td>True</td>\n",
       "      <td>...</td>\n",
       "      <td>True</td>\n",
       "      <td>False</td>\n",
       "      <td>False</td>\n",
       "      <td>False</td>\n",
       "      <td>True</td>\n",
       "      <td>False</td>\n",
       "      <td>True</td>\n",
       "      <td>False</td>\n",
       "      <td>False</td>\n",
       "      <td>False</td>\n",
       "    </tr>\n",
       "    <tr>\n",
       "      <th>3</th>\n",
       "      <td>24</td>\n",
       "      <td>35000</td>\n",
       "      <td>4</td>\n",
       "      <td>54400</td>\n",
       "      <td>0.55</td>\n",
       "      <td>14.27</td>\n",
       "      <td>1</td>\n",
       "      <td>54.0</td>\n",
       "      <td>1314.0</td>\n",
       "      <td>True</td>\n",
       "      <td>...</td>\n",
       "      <td>True</td>\n",
       "      <td>False</td>\n",
       "      <td>False</td>\n",
       "      <td>False</td>\n",
       "      <td>True</td>\n",
       "      <td>False</td>\n",
       "      <td>True</td>\n",
       "      <td>False</td>\n",
       "      <td>False</td>\n",
       "      <td>False</td>\n",
       "    </tr>\n",
       "    <tr>\n",
       "      <th>4</th>\n",
       "      <td>21</td>\n",
       "      <td>2500</td>\n",
       "      <td>2</td>\n",
       "      <td>9900</td>\n",
       "      <td>0.25</td>\n",
       "      <td>7.14</td>\n",
       "      <td>1</td>\n",
       "      <td>34.0</td>\n",
       "      <td>1171.0</td>\n",
       "      <td>False</td>\n",
       "      <td>...</td>\n",
       "      <td>False</td>\n",
       "      <td>True</td>\n",
       "      <td>False</td>\n",
       "      <td>False</td>\n",
       "      <td>True</td>\n",
       "      <td>False</td>\n",
       "      <td>True</td>\n",
       "      <td>False</td>\n",
       "      <td>False</td>\n",
       "      <td>False</td>\n",
       "    </tr>\n",
       "  </tbody>\n",
       "</table>\n",
       "<p>5 rows × 31 columns</p>\n",
       "</div>"
      ],
      "text/plain": [
       "   edad  importe_solicitado  duracion_credito  ingresos  pct_ingreso  \\\n",
       "0    22               35000                 3     59000         0.59   \n",
       "1    21                1000                 2      9600         0.10   \n",
       "2    23               35000                 2     65500         0.53   \n",
       "3    24               35000                 4     54400         0.55   \n",
       "4    21                2500                 2      9900         0.25   \n",
       "\n",
       "   tasa_interes  estado_credito  antiguedad_cliente  gastos_ult_12m  \\\n",
       "0         16.02               1                36.0          1088.0   \n",
       "1         11.14               0                39.0          1144.0   \n",
       "2         15.23               1                36.0          1887.0   \n",
       "3         14.27               1                54.0          1314.0   \n",
       "4          7.14               1                34.0          1171.0   \n",
       "\n",
       "   situacion_vivienda_ALQUILER  ...  estado_civil_CASADO  \\\n",
       "0                         True  ...                 True   \n",
       "1                        False  ...                 True   \n",
       "2                         True  ...                 True   \n",
       "3                         True  ...                 True   \n",
       "4                        False  ...                False   \n",
       "\n",
       "   estado_civil_DESCONOCIDO  estado_civil_DIVORCIADO  estado_civil_SOLTERO  \\\n",
       "0                     False                    False                 False   \n",
       "1                     False                    False                 False   \n",
       "2                     False                    False                 False   \n",
       "3                     False                    False                 False   \n",
       "4                      True                    False                 False   \n",
       "\n",
       "   estado_cliente_ACTIVO  estado_cliente_PASIVO  nivel_tarjeta_Blue  \\\n",
       "0                   True                  False                True   \n",
       "1                   True                  False                True   \n",
       "2                   True                  False                True   \n",
       "3                   True                  False                True   \n",
       "4                   True                  False                True   \n",
       "\n",
       "   nivel_tarjeta_Gold  nivel_tarjeta_Platinum  nivel_tarjeta_Silver  \n",
       "0               False                   False                 False  \n",
       "1               False                   False                 False  \n",
       "2               False                   False                 False  \n",
       "3               False                   False                 False  \n",
       "4               False                   False                 False  \n",
       "\n",
       "[5 rows x 31 columns]"
      ]
     },
     "execution_count": 64,
     "metadata": {},
     "output_type": "execute_result"
    }
   ],
   "source": [
    "df = pd.read_csv(\"../../../data/final/datos_clusterizacion.csv\", sep=\";\")\n",
    "df.head(5)"
   ]
  },
  {
   "cell_type": "markdown",
   "metadata": {},
   "source": [
    "----\n",
    "\n",
    "##### Configuración de la experimentación"
   ]
  },
  {
   "cell_type": "code",
   "execution_count": 65,
   "metadata": {},
   "outputs": [],
   "source": [
    "# Se genera el experimento en mlflow\n",
    "exp_name = 'Experimentación clustering 1'\n",
    "exp_id = mlflow.create_experiment(name=exp_name)"
   ]
  },
  {
   "cell_type": "markdown",
   "metadata": {},
   "source": [
    "- Kmeans"
   ]
  },
  {
   "cell_type": "code",
   "execution_count": 66,
   "metadata": {},
   "outputs": [],
   "source": [
    "# Por cada método se debe registrar la ejecución\n",
    "with mlflow.start_run(experiment_id=exp_id, run_name=\"Kmeans - K=2\"):\n",
    "    # Selección y configuración de la técnica\n",
    "    modelo_clusters = KMeans(n_clusters=2)\n",
    "    \n",
    "    trained_model = modelo_clusters.fit(df)\n",
    "    cluster_labels = trained_model.labels_\n",
    "\n",
    "    # Se realizar el cálculo de las métricas seleccionadas\n",
    "    score_s = silhouette_score(df, cluster_labels)\n",
    "    score_db = davies_bouldin_score(df, cluster_labels)\n",
    "    score_ch = calinski_harabasz_score(df, cluster_labels)\n",
    "\n",
    "    # Se registra el parámetro K\n",
    "    mlflow.log_param('Valor K', 2)\n",
    "\n",
    "    # Se registran las métricas de evaluación\n",
    "    mlflow.log_metric('silhouette_score', score_s)\n",
    "    mlflow.log_metric('davies_bouldin_score', score_db)\n",
    "    mlflow.log_metric('calinski_harabasz_score', score_ch)\n",
    "\n",
    "    # Se guarda el modelo generado\n",
    "    mlflow.sklearn.log_model(trained_model, \"Kmeans_K2\")\n",
    "\n",
    "    # Se finaliza el registro\n",
    "    mlflow.end_run()"
   ]
  },
  {
   "cell_type": "markdown",
   "metadata": {},
   "source": [
    "Para contabilizar los elementos por cluster se utilizan las labels generadas"
   ]
  },
  {
   "cell_type": "code",
   "execution_count": 67,
   "metadata": {},
   "outputs": [
    {
     "data": {
      "text/plain": [
       "cluster\n",
       "0    9434\n",
       "1     668\n",
       "Name: count, dtype: int64"
      ]
     },
     "execution_count": 67,
     "metadata": {},
     "output_type": "execute_result"
    }
   ],
   "source": [
    "# Se preserva el conjunto de datos original para evitar problemas\n",
    "df_kmeans_k2 = df.copy()\n",
    "# Se agregan las labels generadas\n",
    "df_kmeans_k2['cluster'] = cluster_labels\n",
    "df_kmeans_k2['cluster'].value_counts()"
   ]
  },
  {
   "cell_type": "code",
   "execution_count": 68,
   "metadata": {},
   "outputs": [],
   "source": [
    "df_kmeans_k2.to_csv(\"../../../data/final/resultados_kmeans_k2.csv\", sep=\";\", index=False)"
   ]
  },
  {
   "cell_type": "markdown",
   "metadata": {},
   "source": [
    "Se pasa a probar otro método (clustering jerárquico)"
   ]
  },
  {
   "cell_type": "markdown",
   "metadata": {},
   "source": [
    "- AgglomerativeClustering"
   ]
  },
  {
   "cell_type": "code",
   "execution_count": 69,
   "metadata": {},
   "outputs": [
    {
     "name": "stderr",
     "output_type": "stream",
     "text": [
      "2024/05/05 16:27:17 WARNING mlflow.sklearn: Model was missing function: predict. Not logging python_function flavor!\n"
     ]
    }
   ],
   "source": [
    "# Por cada método se debe registrar la ejecución\n",
    "with mlflow.start_run(experiment_id=exp_id, run_name=\"AGClustering - K=3\"):\n",
    "    # Selección y configuración de la técnica\n",
    "    modelo_clusters = AgglomerativeClustering(n_clusters=3)\n",
    "    \n",
    "    trained_model = modelo_clusters.fit(df)\n",
    "    cluster_labels = trained_model.labels_\n",
    "\n",
    "    # Se realizar el cálculo de las métricas seleccionadas\n",
    "    score_s = silhouette_score(df, cluster_labels)\n",
    "    score_db = davies_bouldin_score(df, cluster_labels)\n",
    "    score_ch = calinski_harabasz_score(df, cluster_labels)\n",
    "\n",
    "    # Se registra el parámetro K\n",
    "    mlflow.log_param('Valor K', 3)\n",
    "\n",
    "    # Se registran las métricas de evaluación\n",
    "    mlflow.log_metric('silhouette_score', score_s)\n",
    "    mlflow.log_metric('davies_bouldin_score', score_db)\n",
    "    mlflow.log_metric('calinski_harabasz_score', score_ch)\n",
    "\n",
    "    # Se guarda el modelo generado\n",
    "    mlflow.sklearn.log_model(trained_model, \"AGC_K3\")\n",
    "\n",
    "    # Se finaliza el registro\n",
    "    mlflow.end_run()"
   ]
  },
  {
   "cell_type": "markdown",
   "metadata": {},
   "source": [
    "Para contabilizar los elementos por cluster se utilizan las labels generadas"
   ]
  },
  {
   "cell_type": "code",
   "execution_count": 70,
   "metadata": {},
   "outputs": [
    {
     "data": {
      "text/plain": [
       "cluster\n",
       "0    5070\n",
       "2    4861\n",
       "1     171\n",
       "Name: count, dtype: int64"
      ]
     },
     "execution_count": 70,
     "metadata": {},
     "output_type": "execute_result"
    }
   ],
   "source": [
    "# Se preserva el conjunto de datos original para evitar problemas\n",
    "df_agc_k3 = df.copy()\n",
    "# Se agregan las labels generadas\n",
    "df_agc_k3['cluster'] = cluster_labels\n",
    "df_agc_k3['cluster'].value_counts()"
   ]
  },
  {
   "cell_type": "markdown",
   "metadata": {},
   "source": [
    "Finalmente, se prueba un método que no tiene parámetros"
   ]
  },
  {
   "cell_type": "markdown",
   "metadata": {},
   "source": [
    "- MeanShift"
   ]
  },
  {
   "cell_type": "code",
   "execution_count": 71,
   "metadata": {},
   "outputs": [],
   "source": [
    "# Por cada método se debe registrar la ejecución\n",
    "with mlflow.start_run(experiment_id=exp_id, run_name=\"MeanShift\"):\n",
    "    # Selección y configuración de la técnica\n",
    "    modelo_clusters = MeanShift()\n",
    "    \n",
    "    trained_model = modelo_clusters.fit(df)\n",
    "    cluster_labels = trained_model.labels_\n",
    "\n",
    "    # Se realizar el cálculo de las métricas seleccionadas\n",
    "    score_s = silhouette_score(df, cluster_labels)\n",
    "    score_db = davies_bouldin_score(df, cluster_labels)\n",
    "    score_ch = calinski_harabasz_score(df, cluster_labels)\n",
    "\n",
    "    # No hay parámetros por registrar\n",
    "\n",
    "    # Se registran las métricas de evaluación\n",
    "    mlflow.log_metric('silhouette_score', score_s)\n",
    "    mlflow.log_metric('davies_bouldin_score', score_db)\n",
    "    mlflow.log_metric('calinski_harabasz_score', score_ch)\n",
    "\n",
    "    # Se guarda el modelo generado\n",
    "    mlflow.sklearn.log_model(trained_model, \"MS\")\n",
    "\n",
    "    # Se finaliza el registro\n",
    "    mlflow.end_run()"
   ]
  },
  {
   "cell_type": "markdown",
   "metadata": {},
   "source": [
    "Para contabilizar los elementos por cluster se utilizan las labels generadas"
   ]
  },
  {
   "cell_type": "code",
   "execution_count": 72,
   "metadata": {},
   "outputs": [
    {
     "data": {
      "text/plain": [
       "cluster\n",
       "0    9536\n",
       "1     407\n",
       "2      93\n",
       "3      47\n",
       "4       7\n",
       "5       6\n",
       "6       5\n",
       "7       1\n",
       "Name: count, dtype: int64"
      ]
     },
     "execution_count": 72,
     "metadata": {},
     "output_type": "execute_result"
    }
   ],
   "source": [
    "# Se preserva el conjunto de datos original para evitar problemas\n",
    "df_ms = df.copy()\n",
    "# Se agregan las labels generadas\n",
    "df_ms['cluster'] = cluster_labels\n",
    "df_ms['cluster'].value_counts()"
   ]
  },
  {
   "cell_type": "markdown",
   "metadata": {},
   "source": [
    "- Birch\n",
    "\n",
    "Decido realizar otro método más, en este caso Birch (algoritmo de clustering basado en árboles). Para esta primera prueba indico un threshold de 0.5 y un numero de clusters igual a 2."
   ]
  },
  {
   "cell_type": "code",
   "execution_count": 73,
   "metadata": {},
   "outputs": [],
   "source": [
    "# Por cada método se debe registrar la ejecución\n",
    "with mlflow.start_run(experiment_id=exp_id, run_name=\"Birch - threshold=0.5 - n_clusters=2\"):\n",
    "\n",
    "    # Selección y configuración de la técnica\n",
    "    modelo_clusters = Birch(threshold=0.5, n_clusters=2)\n",
    "    \n",
    "    trained_model = modelo_clusters.fit(df)\n",
    "    cluster_labels = trained_model.labels_\n",
    "\n",
    "    # Se realizar el cálculo de las métricas seleccionadas\n",
    "    score_s = silhouette_score(df, cluster_labels)\n",
    "    score_db = davies_bouldin_score(df, cluster_labels)\n",
    "    score_ch = calinski_harabasz_score(df, cluster_labels)\n",
    "\n",
    "    # Se registra el parámetro threshold\n",
    "    mlflow.log_param('Valor threshold', 0.5)\n",
    "    # Se registra el parámetro num clusters\n",
    "    mlflow.log_param('Valor n_clusters', 2)\n",
    "\n",
    "    # Se registran las métricas de evaluación\n",
    "    mlflow.log_metric('silhouette_score', score_s)\n",
    "    mlflow.log_metric('davies_bouldin_score', score_db)\n",
    "    mlflow.log_metric('calinski_harabasz_score', score_ch)\n",
    "\n",
    "    # Se guarda el modelo generado\n",
    "    mlflow.sklearn.log_model(trained_model, \"Birch_0.5/2\")\n",
    "\n",
    "    # Se finaliza el registro\n",
    "    mlflow.end_run()"
   ]
  },
  {
   "cell_type": "code",
   "execution_count": 74,
   "metadata": {},
   "outputs": [
    {
     "data": {
      "text/plain": [
       "cluster\n",
       "0    9931\n",
       "1     171\n",
       "Name: count, dtype: int64"
      ]
     },
     "execution_count": 74,
     "metadata": {},
     "output_type": "execute_result"
    }
   ],
   "source": [
    "# Se preserva el conjunto de datos original para evitar problemas\n",
    "df_birch2 = df.copy()\n",
    "# Se agregan las labels generadas\n",
    "df_birch2['cluster'] = cluster_labels\n",
    "df_birch2['cluster'].value_counts()"
   ]
  },
  {
   "cell_type": "code",
   "execution_count": 75,
   "metadata": {},
   "outputs": [],
   "source": [
    "df_birch2.to_csv(\"../../../data/final/resultados_birch_n2.csv\", sep=\";\", index=False)"
   ]
  },
  {
   "cell_type": "markdown",
   "metadata": {},
   "source": [
    "----\n",
    "\n",
    "Prueba Nro. 2\n",
    "\n",
    "- Kmeans\n"
   ]
  },
  {
   "cell_type": "code",
   "execution_count": 76,
   "metadata": {},
   "outputs": [],
   "source": [
    "# Se genera el experimento en mlflow\n",
    "exp_name_2 = 'Experimentación clustering 2'\n",
    "exp_id_2 = mlflow.create_experiment(name=exp_name_2)"
   ]
  },
  {
   "cell_type": "code",
   "execution_count": 77,
   "metadata": {},
   "outputs": [],
   "source": [
    "# Por cada método se debe registrar la ejecución\n",
    "with mlflow.start_run(experiment_id=exp_id_2, run_name=\"Kmeans - K=3\"):\n",
    "    # Selección y configuración de la técnica\n",
    "    modelo_clusters = KMeans(n_clusters=3)\n",
    "    \n",
    "    trained_model = modelo_clusters.fit(df)\n",
    "    cluster_labels = trained_model.labels_\n",
    "\n",
    "    # Se realizar el cálculo de las métricas seleccionadas\n",
    "    score_s = silhouette_score(df, cluster_labels)\n",
    "    score_db = davies_bouldin_score(df, cluster_labels)\n",
    "    score_ch = calinski_harabasz_score(df, cluster_labels)\n",
    "\n",
    "    # Se registra el parámetro K\n",
    "    mlflow.log_param('Valor K', 3)\n",
    "\n",
    "    # Se registran las métricas de evaluación\n",
    "    mlflow.log_metric('silhouette_score', score_s)\n",
    "    mlflow.log_metric('davies_bouldin_score', score_db)\n",
    "    mlflow.log_metric('calinski_harabasz_score', score_ch)\n",
    "\n",
    "    # Se guarda el modelo generado\n",
    "    mlflow.sklearn.log_model(trained_model, \"Kmeans_K3\")\n",
    "\n",
    "    # Se finaliza el registro\n",
    "    mlflow.end_run()"
   ]
  },
  {
   "cell_type": "code",
   "execution_count": 78,
   "metadata": {},
   "outputs": [
    {
     "data": {
      "text/plain": [
       "cluster\n",
       "0    5199\n",
       "2    4534\n",
       "1     369\n",
       "Name: count, dtype: int64"
      ]
     },
     "execution_count": 78,
     "metadata": {},
     "output_type": "execute_result"
    }
   ],
   "source": [
    "# Se preserva el conjunto de datos original para evitar problemas\n",
    "df_kmeans_k3 = df.copy()\n",
    "# Se agregan las labels generadas\n",
    "df_kmeans_k3['cluster'] = cluster_labels\n",
    "df_kmeans_k3['cluster'].value_counts()"
   ]
  },
  {
   "cell_type": "code",
   "execution_count": 79,
   "metadata": {},
   "outputs": [],
   "source": [
    "df_kmeans_k3.to_csv(\"../../../data/final/resultados_kmeans_k3.csv\", sep=\";\", index=False)"
   ]
  },
  {
   "cell_type": "markdown",
   "metadata": {},
   "source": [
    "- AgglomerativeClustering"
   ]
  },
  {
   "cell_type": "code",
   "execution_count": 80,
   "metadata": {},
   "outputs": [
    {
     "name": "stderr",
     "output_type": "stream",
     "text": [
      "2024/05/05 16:40:50 WARNING mlflow.sklearn: Model was missing function: predict. Not logging python_function flavor!\n"
     ]
    }
   ],
   "source": [
    "# Por cada método se debe registrar la ejecución\n",
    "with mlflow.start_run(experiment_id=exp_id_2, run_name=\"AGClustering - K=2\"):\n",
    "    # Selección y configuración de la técnica\n",
    "    modelo_clusters = AgglomerativeClustering(n_clusters=2)\n",
    "    \n",
    "    trained_model = modelo_clusters.fit(df)\n",
    "    cluster_labels = trained_model.labels_\n",
    "\n",
    "    # Se realizar el cálculo de las métricas seleccionadas\n",
    "    score_s = silhouette_score(df, cluster_labels)\n",
    "    score_db = davies_bouldin_score(df, cluster_labels)\n",
    "    score_ch = calinski_harabasz_score(df, cluster_labels)\n",
    "\n",
    "    # Se registra el parámetro K\n",
    "    mlflow.log_param('Valor K', 2)\n",
    "\n",
    "    # Se registran las métricas de evaluación\n",
    "    mlflow.log_metric('silhouette_score', score_s)\n",
    "    mlflow.log_metric('davies_bouldin_score', score_db)\n",
    "    mlflow.log_metric('calinski_harabasz_score', score_ch)\n",
    "\n",
    "    # Se guarda el modelo generado\n",
    "    mlflow.sklearn.log_model(trained_model, \"AGC_K2\")\n",
    "\n",
    "    # Se finaliza el registro\n",
    "    mlflow.end_run()"
   ]
  },
  {
   "cell_type": "code",
   "execution_count": 81,
   "metadata": {},
   "outputs": [
    {
     "data": {
      "text/plain": [
       "cluster\n",
       "0    9931\n",
       "1     171\n",
       "Name: count, dtype: int64"
      ]
     },
     "execution_count": 81,
     "metadata": {},
     "output_type": "execute_result"
    }
   ],
   "source": [
    "# Se preserva el conjunto de datos original para evitar problemas\n",
    "df_agc_k2 = df.copy()\n",
    "# Se agregan las labels generadas\n",
    "df_agc_k2['cluster'] = cluster_labels\n",
    "df_agc_k2['cluster'].value_counts()"
   ]
  },
  {
   "cell_type": "markdown",
   "metadata": {},
   "source": [
    "- Birch"
   ]
  },
  {
   "cell_type": "code",
   "execution_count": 82,
   "metadata": {},
   "outputs": [],
   "source": [
    "# Por cada método se debe registrar la ejecución\n",
    "with mlflow.start_run(experiment_id=exp_id_2, run_name=\"Birch - threshold=0.5 - n_clusters=3\"):\n",
    "\n",
    "    # Selección y configuración de la técnica\n",
    "    modelo_clusters = Birch(threshold=0.5, n_clusters=3)\n",
    "    \n",
    "    trained_model = modelo_clusters.fit(df)\n",
    "    cluster_labels = trained_model.labels_\n",
    "\n",
    "    # Se realizar el cálculo de las métricas seleccionadas\n",
    "    score_s = silhouette_score(df, cluster_labels)\n",
    "    score_db = davies_bouldin_score(df, cluster_labels)\n",
    "    score_ch = calinski_harabasz_score(df, cluster_labels)\n",
    "\n",
    "    # Se registra el parámetro threshold\n",
    "    mlflow.log_param('Valor threshold', 0.5)\n",
    "    # Se registra el parámetro num clusters\n",
    "    mlflow.log_param('Valor n_clusters', 3)\n",
    "\n",
    "    # Se registran las métricas de evaluación\n",
    "    mlflow.log_metric('silhouette_score', score_s)\n",
    "    mlflow.log_metric('davies_bouldin_score', score_db)\n",
    "    mlflow.log_metric('calinski_harabasz_score', score_ch)\n",
    "\n",
    "    # Se guarda el modelo generado\n",
    "    mlflow.sklearn.log_model(trained_model, \"Birch_0.5/3\")\n",
    "\n",
    "    # Se finaliza el registro\n",
    "    mlflow.end_run()"
   ]
  },
  {
   "cell_type": "code",
   "execution_count": 83,
   "metadata": {},
   "outputs": [
    {
     "data": {
      "text/plain": [
       "cluster\n",
       "0    5070\n",
       "2    4861\n",
       "1     171\n",
       "Name: count, dtype: int64"
      ]
     },
     "execution_count": 83,
     "metadata": {},
     "output_type": "execute_result"
    }
   ],
   "source": [
    "# Se preserva el conjunto de datos original para evitar problemas\n",
    "df_birch3 = df.copy()\n",
    "# Se agregan las labels generadas\n",
    "df_birch3['cluster'] = cluster_labels\n",
    "df_birch3['cluster'].value_counts()"
   ]
  },
  {
   "cell_type": "markdown",
   "metadata": {},
   "source": [
    "----\n",
    "\n",
    "Prueba Nro. 3\n",
    "\n",
    "- Kmeans\n"
   ]
  },
  {
   "cell_type": "code",
   "execution_count": 84,
   "metadata": {},
   "outputs": [],
   "source": [
    "# Se genera el experimento en mlflow\n",
    "exp_name_3 = 'Experimentación clustering 3'\n",
    "exp_id_3 = mlflow.create_experiment(name=exp_name_3)"
   ]
  },
  {
   "cell_type": "code",
   "execution_count": 85,
   "metadata": {},
   "outputs": [],
   "source": [
    "# Por cada método se debe registrar la ejecución\n",
    "with mlflow.start_run(experiment_id=exp_id_3, run_name=\"Kmeans - K=5\"):\n",
    "    # Selección y configuración de la técnica\n",
    "    modelo_clusters = KMeans(n_clusters=5, algorithm='elkan', max_iter=200)\n",
    "    \n",
    "    trained_model = modelo_clusters.fit(df)\n",
    "    cluster_labels = trained_model.labels_\n",
    "\n",
    "    # Se realizar el cálculo de las métricas seleccionadas\n",
    "    score_s = silhouette_score(df, cluster_labels)\n",
    "    score_db = davies_bouldin_score(df, cluster_labels)\n",
    "    score_ch = calinski_harabasz_score(df, cluster_labels)\n",
    "\n",
    "    # Se registra el parámetro K\n",
    "    mlflow.log_param('Valor K', 5)\n",
    "    # Se registra el parámetro algortihm\n",
    "    mlflow.log_param('Valor algorithm', 'elkan')\n",
    "    # Se registra el parámetro max_iter\n",
    "    mlflow.log_param('Valor max_iter', 200)\n",
    "\n",
    "    # Se registran las métricas de evaluación\n",
    "    mlflow.log_metric('silhouette_score', score_s)\n",
    "    mlflow.log_metric('davies_bouldin_score', score_db)\n",
    "    mlflow.log_metric('calinski_harabasz_score', score_ch)\n",
    "\n",
    "    # Se guarda el modelo generado\n",
    "    mlflow.sklearn.log_model(trained_model, \"Kmeans_K5\")\n",
    "\n",
    "    # Se finaliza el registro\n",
    "    mlflow.end_run()"
   ]
  },
  {
   "cell_type": "code",
   "execution_count": 86,
   "metadata": {},
   "outputs": [
    {
     "data": {
      "text/plain": [
       "cluster\n",
       "1    3829\n",
       "4    3252\n",
       "0    2327\n",
       "3     528\n",
       "2     166\n",
       "Name: count, dtype: int64"
      ]
     },
     "execution_count": 86,
     "metadata": {},
     "output_type": "execute_result"
    }
   ],
   "source": [
    "# Se preserva el conjunto de datos original para evitar problemas\n",
    "df_kmeans_k5 = df.copy()\n",
    "# Se agregan las labels generadas\n",
    "df_kmeans_k5['cluster'] = cluster_labels\n",
    "df_kmeans_k5['cluster'].value_counts()"
   ]
  },
  {
   "cell_type": "code",
   "execution_count": 92,
   "metadata": {},
   "outputs": [],
   "source": [
    "df_kmeans_k5.to_csv(\"../../../data/final/resultados_kmeans_k5.csv\", sep=\";\", index=False)"
   ]
  },
  {
   "cell_type": "markdown",
   "metadata": {},
   "source": [
    "- AgglomerativeClustering"
   ]
  },
  {
   "cell_type": "code",
   "execution_count": 87,
   "metadata": {},
   "outputs": [
    {
     "name": "stderr",
     "output_type": "stream",
     "text": [
      "2024/05/05 16:42:21 WARNING mlflow.sklearn: Model was missing function: predict. Not logging python_function flavor!\n"
     ]
    }
   ],
   "source": [
    "# Por cada método se debe registrar la ejecución\n",
    "with mlflow.start_run(experiment_id=exp_id_3, run_name=\"AGClustering - K=4\"):\n",
    "    # Selección y configuración de la técnica\n",
    "    modelo_clusters = AgglomerativeClustering(n_clusters=4, linkage='average')\n",
    "    \n",
    "    trained_model = modelo_clusters.fit(df)\n",
    "    cluster_labels = trained_model.labels_\n",
    "\n",
    "    # Se realizar el cálculo de las métricas seleccionadas\n",
    "    score_s = silhouette_score(df, cluster_labels)\n",
    "    score_db = davies_bouldin_score(df, cluster_labels)\n",
    "    score_ch = calinski_harabasz_score(df, cluster_labels)\n",
    "\n",
    "    # Se registra el parámetro K\n",
    "    mlflow.log_param('Valor K', 4)\n",
    "    # Se registra el parámetro linkage\n",
    "    mlflow.log_param('Valor linkage', 'average')\n",
    "\n",
    "    # Se registran las métricas de evaluación\n",
    "    mlflow.log_metric('silhouette_score', score_s)\n",
    "    mlflow.log_metric('davies_bouldin_score', score_db)\n",
    "    mlflow.log_metric('calinski_harabasz_score', score_ch)\n",
    "\n",
    "    # Se guarda el modelo generado\n",
    "    mlflow.sklearn.log_model(trained_model, \"AGC_K4\")\n",
    "\n",
    "    # Se finaliza el registro\n",
    "    mlflow.end_run()"
   ]
  },
  {
   "cell_type": "code",
   "execution_count": 88,
   "metadata": {},
   "outputs": [
    {
     "data": {
      "text/plain": [
       "cluster\n",
       "1    9700\n",
       "0     383\n",
       "3      18\n",
       "2       1\n",
       "Name: count, dtype: int64"
      ]
     },
     "execution_count": 88,
     "metadata": {},
     "output_type": "execute_result"
    }
   ],
   "source": [
    "# Se preserva el conjunto de datos original para evitar problemas\n",
    "df_agc_k4 = df.copy()\n",
    "# Se agregan las labels generadas\n",
    "df_agc_k4['cluster'] = cluster_labels\n",
    "df_agc_k4['cluster'].value_counts()"
   ]
  },
  {
   "cell_type": "code",
   "execution_count": 89,
   "metadata": {},
   "outputs": [],
   "source": [
    "df_agc_k4.to_csv(\"../../../data/final/resultados_agc_k4.csv\", sep=\";\", index=False)"
   ]
  },
  {
   "cell_type": "markdown",
   "metadata": {},
   "source": [
    "- Birch"
   ]
  },
  {
   "cell_type": "code",
   "execution_count": 90,
   "metadata": {},
   "outputs": [],
   "source": [
    "# Por cada método se debe registrar la ejecución\n",
    "with mlflow.start_run(experiment_id=exp_id_3, run_name=\"Birch - threshold=0.5 - n_clusters=6 - branching_factor 70\"):\n",
    "\n",
    "    # Selección y configuración de la técnica\n",
    "    modelo_clusters = Birch(threshold=0.5, n_clusters=6, branching_factor=70)\n",
    "    \n",
    "    trained_model = modelo_clusters.fit(df)\n",
    "    cluster_labels = trained_model.labels_\n",
    "\n",
    "    # Se realizar el cálculo de las métricas seleccionadas\n",
    "    score_s = silhouette_score(df, cluster_labels)\n",
    "    score_db = davies_bouldin_score(df, cluster_labels)\n",
    "    score_ch = calinski_harabasz_score(df, cluster_labels)\n",
    "\n",
    "    # Se registra el parámetro threshold\n",
    "    mlflow.log_param('Valor threshold', 0.5)\n",
    "    # Se registra el parámetro num clusters\n",
    "    mlflow.log_param('Valor n_clusters', 6)\n",
    "    # Se registra el parámetro branching_factor\n",
    "    mlflow.log_param('Valor branching_factor', 70)\n",
    "\n",
    "    # Se registran las métricas de evaluación\n",
    "    mlflow.log_metric('silhouette_score', score_s)\n",
    "    mlflow.log_metric('davies_bouldin_score', score_db)\n",
    "    mlflow.log_metric('calinski_harabasz_score', score_ch)\n",
    "\n",
    "    # Se guarda el modelo generado\n",
    "    mlflow.sklearn.log_model(trained_model, \"Birch_0.5/6/70\")\n",
    "\n",
    "    # Se finaliza el registro\n",
    "    mlflow.end_run()"
   ]
  },
  {
   "cell_type": "code",
   "execution_count": 91,
   "metadata": {},
   "outputs": [
    {
     "data": {
      "text/plain": [
       "cluster\n",
       "1    3889\n",
       "3    3562\n",
       "5    1299\n",
       "2     961\n",
       "4     220\n",
       "0     171\n",
       "Name: count, dtype: int64"
      ]
     },
     "execution_count": 91,
     "metadata": {},
     "output_type": "execute_result"
    }
   ],
   "source": [
    "# Se preserva el conjunto de datos original para evitar problemas\n",
    "df_birch6 = df.copy()\n",
    "# Se agregan las labels generadas\n",
    "df_birch6['cluster'] = cluster_labels\n",
    "df_birch6['cluster'].value_counts()"
   ]
  }
 ],
 "metadata": {
  "kernelspec": {
   "display_name": "huemul",
   "language": "python",
   "name": "python3"
  },
  "language_info": {
   "codemirror_mode": {
    "name": "ipython",
    "version": 3
   },
   "file_extension": ".py",
   "mimetype": "text/x-python",
   "name": "python",
   "nbconvert_exporter": "python",
   "pygments_lexer": "ipython3",
   "version": "3.10.4"
  }
 },
 "nbformat": 4,
 "nbformat_minor": 2
}
